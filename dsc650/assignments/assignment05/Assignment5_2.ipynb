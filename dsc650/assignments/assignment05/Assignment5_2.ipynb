{
  "nbformat": 4,
  "nbformat_minor": 0,
  "metadata": {
    "colab": {
      "provenance": []
    },
    "kernelspec": {
      "name": "python3",
      "display_name": "Python 3"
    },
    "language_info": {
      "name": "python"
    }
  },
  "cells": [
    {
      "cell_type": "markdown",
      "source": [
        "###Holly Figueroa\n",
        "###DSC650 Week 5  \n",
        "\n",
        "**Book Exercise 3.5**  \n",
        "A Single-Label, Multiclass Classification of Newswires"
      ],
      "metadata": {
        "id": "ydtNYMbAYXl2"
      }
    },
    {
      "cell_type": "code",
      "execution_count": null,
      "metadata": {
        "colab": {
          "base_uri": "https://localhost:8080/"
        },
        "id": "wIQ1vBz7VpQc",
        "outputId": "5c11910a-a3b0-4a00-dc65-1cc5ccdcb984"
      },
      "outputs": [
        {
          "output_type": "execute_result",
          "data": {
            "text/plain": [
              "2246"
            ]
          },
          "metadata": {},
          "execution_count": 1
        }
      ],
      "source": [
        "# Loading dataset\n",
        "from keras.datasets import reuters\n",
        "import numpy as np\n",
        "\n",
        "(train_data, train_labels), (test_data, test_labels) = reuters.load_data(num_words=10000)\n",
        "\n",
        "len(train_data)\n",
        "len(test_data)"
      ]
    },
    {
      "cell_type": "code",
      "source": [
        "# How to decode newswires back to text\n",
        "word_index = reuters.get_word_index()\n",
        "reverse_word_index = dict([(value, key) for (key,value) in word_index.items()])\n",
        "decoded_newswire= ' '.join([reverse_word_index.get(i-3,'?') for i in train_data[0]])\n"
      ],
      "metadata": {
        "id": "K5l3nkO7fK7j"
      },
      "execution_count": null,
      "outputs": []
    },
    {
      "cell_type": "code",
      "source": [
        "decoded_newswire"
      ],
      "metadata": {
        "colab": {
          "base_uri": "https://localhost:8080/",
          "height": 70
        },
        "id": "2OqgwjzTfLEU",
        "outputId": "75e957fd-28a5-4a87-d6e4-e60f464d8df4"
      },
      "execution_count": null,
      "outputs": [
        {
          "output_type": "execute_result",
          "data": {
            "text/plain": [
              "'? ? ? said as a result of its december acquisition of space co it expects earnings per share in 1987 of 1 15 to 1 30 dlrs per share up from 70 cts in 1986 the company said pretax net should rise to nine to 10 mln dlrs from six mln dlrs in 1986 and rental operation revenues to 19 to 22 mln dlrs from 12 5 mln dlrs it said cash flow per share this year should be 2 50 to three dlrs reuter 3'"
            ],
            "application/vnd.google.colaboratory.intrinsic+json": {
              "type": "string"
            }
          },
          "metadata": {},
          "execution_count": 3
        }
      ]
    },
    {
      "cell_type": "code",
      "source": [
        "# Encoding the data\n",
        "# Encode the integer sequences into a binary matrix\n",
        "def vectorize_sequences(sequences, dimension=10000):\n",
        "    results = np.zeros((len(sequences), dimension))\n",
        "    for i, sequence in enumerate(sequences):\n",
        "        results[i, sequence] = 1.\n",
        "    return results\n",
        "\n",
        "x_train = vectorize_sequences(train_data)\n",
        "x_test = vectorize_sequences(test_data)"
      ],
      "metadata": {
        "id": "wER4G_qyfLHO"
      },
      "execution_count": null,
      "outputs": []
    },
    {
      "cell_type": "code",
      "source": [
        "print( x_train.shape, x_test.shape)"
      ],
      "metadata": {
        "colab": {
          "base_uri": "https://localhost:8080/"
        },
        "id": "_eaRwyefyioP",
        "outputId": "502d4586-e084-4fb5-954e-f9d55735773f"
      },
      "execution_count": null,
      "outputs": [
        {
          "output_type": "stream",
          "name": "stdout",
          "text": [
            "(8982, 10000) (2246, 10000)\n"
          ]
        }
      ]
    },
    {
      "cell_type": "code",
      "source": [
        "from keras.utils import to_categorical\n",
        "\n",
        "one_hot_train_labels = to_categorical(train_labels)\n",
        "one_hot_test_labels = to_categorical(test_labels)"
      ],
      "metadata": {
        "id": "gtyLfto0fLKW"
      },
      "execution_count": null,
      "outputs": []
    },
    {
      "cell_type": "code",
      "source": [
        "# Model Definition\n",
        "\n",
        "from keras import models\n",
        "from keras import layers\n",
        "\n",
        "model = models.Sequential()\n",
        "model.add(layers.Dense(64, activation = 'relu', input_shape=(10000, )))\n",
        "model.add(layers.Dense(64, activation = 'relu'))\n",
        "model.add(layers.Dense(46, activation = 'softmax'))\n"
      ],
      "metadata": {
        "id": "C7U1dGSC8Ktq"
      },
      "execution_count": null,
      "outputs": []
    },
    {
      "cell_type": "code",
      "source": [
        "# Compileing the model\n",
        "model.compile(optimizer='rmsprop',\n",
        "              loss='categorical_crossentropy',\n",
        "              metrics=['accuracy'])"
      ],
      "metadata": {
        "id": "C_fUZHOz8NBh"
      },
      "execution_count": null,
      "outputs": []
    },
    {
      "cell_type": "code",
      "source": [
        "# Setting asside a validation set\n",
        "x_val = x_train[:1000]\n",
        "partial_x_train = x_train[1000:]\n",
        "\n",
        "y_val = one_hot_train_labels[:1000]\n",
        "partial_y_train = one_hot_train_labels[1000:]"
      ],
      "metadata": {
        "id": "lyxMru9l8NIA"
      },
      "execution_count": null,
      "outputs": []
    },
    {
      "cell_type": "code",
      "source": [
        "# Training the model\n",
        "history = model.fit(partial_x_train,\n",
        "                    partial_y_train,\n",
        "                    epochs=20,\n",
        "                    batch_size=512,\n",
        "                    validation_data=(x_val, y_val))"
      ],
      "metadata": {
        "colab": {
          "base_uri": "https://localhost:8080/"
        },
        "id": "plqj5SIE8NKz",
        "outputId": "20edaa98-09bc-40e1-8884-46648f90c1af"
      },
      "execution_count": null,
      "outputs": [
        {
          "output_type": "stream",
          "name": "stdout",
          "text": [
            "Epoch 1/20\n",
            "16/16 [==============================] - 7s 249ms/step - loss: 2.8657 - accuracy: 0.4681 - val_loss: 1.9331 - val_accuracy: 0.6110\n",
            "Epoch 2/20\n",
            "16/16 [==============================] - 2s 127ms/step - loss: 1.6351 - accuracy: 0.6696 - val_loss: 1.4459 - val_accuracy: 0.6960\n",
            "Epoch 3/20\n",
            "16/16 [==============================] - 2s 123ms/step - loss: 1.2554 - accuracy: 0.7362 - val_loss: 1.2498 - val_accuracy: 0.7380\n",
            "Epoch 4/20\n",
            "16/16 [==============================] - 1s 69ms/step - loss: 1.0359 - accuracy: 0.7816 - val_loss: 1.1600 - val_accuracy: 0.7520\n",
            "Epoch 5/20\n",
            "16/16 [==============================] - 1s 75ms/step - loss: 0.8623 - accuracy: 0.8178 - val_loss: 1.0496 - val_accuracy: 0.7770\n",
            "Epoch 6/20\n",
            "16/16 [==============================] - 2s 94ms/step - loss: 0.7235 - accuracy: 0.8433 - val_loss: 0.9968 - val_accuracy: 0.7890\n",
            "Epoch 7/20\n",
            "16/16 [==============================] - 2s 97ms/step - loss: 0.6088 - accuracy: 0.8721 - val_loss: 0.9654 - val_accuracy: 0.7900\n",
            "Epoch 8/20\n",
            "16/16 [==============================] - 1s 62ms/step - loss: 0.5153 - accuracy: 0.8938 - val_loss: 0.9364 - val_accuracy: 0.8150\n",
            "Epoch 9/20\n",
            "16/16 [==============================] - 1s 60ms/step - loss: 0.4398 - accuracy: 0.9089 - val_loss: 0.9139 - val_accuracy: 0.8100\n",
            "Epoch 10/20\n",
            "16/16 [==============================] - 1s 68ms/step - loss: 0.3771 - accuracy: 0.9228 - val_loss: 0.8825 - val_accuracy: 0.8170\n",
            "Epoch 11/20\n",
            "16/16 [==============================] - 2s 102ms/step - loss: 0.3257 - accuracy: 0.9303 - val_loss: 0.8878 - val_accuracy: 0.8130\n",
            "Epoch 12/20\n",
            "16/16 [==============================] - 1s 54ms/step - loss: 0.2841 - accuracy: 0.9392 - val_loss: 0.9124 - val_accuracy: 0.8080\n",
            "Epoch 13/20\n",
            "16/16 [==============================] - 1s 54ms/step - loss: 0.2517 - accuracy: 0.9437 - val_loss: 0.8806 - val_accuracy: 0.8090\n",
            "Epoch 14/20\n",
            "16/16 [==============================] - 1s 50ms/step - loss: 0.2206 - accuracy: 0.9503 - val_loss: 0.9131 - val_accuracy: 0.8130\n",
            "Epoch 15/20\n",
            "16/16 [==============================] - 1s 51ms/step - loss: 0.2043 - accuracy: 0.9514 - val_loss: 0.9847 - val_accuracy: 0.7970\n",
            "Epoch 16/20\n",
            "16/16 [==============================] - 1s 52ms/step - loss: 0.1879 - accuracy: 0.9531 - val_loss: 0.9136 - val_accuracy: 0.8110\n",
            "Epoch 17/20\n",
            "16/16 [==============================] - 1s 54ms/step - loss: 0.1752 - accuracy: 0.9524 - val_loss: 0.9311 - val_accuracy: 0.8060\n",
            "Epoch 18/20\n",
            "16/16 [==============================] - 1s 75ms/step - loss: 0.1643 - accuracy: 0.9544 - val_loss: 0.9723 - val_accuracy: 0.7960\n",
            "Epoch 19/20\n",
            "16/16 [==============================] - 1s 91ms/step - loss: 0.1536 - accuracy: 0.9563 - val_loss: 0.9550 - val_accuracy: 0.7960\n",
            "Epoch 20/20\n",
            "16/16 [==============================] - 1s 83ms/step - loss: 0.1415 - accuracy: 0.9558 - val_loss: 0.9609 - val_accuracy: 0.8170\n"
          ]
        }
      ]
    },
    {
      "cell_type": "code",
      "source": [
        "# Plotting the training and validation loss\n",
        "import matplotlib.pyplot as plt\n",
        "\n",
        "loss = history.history['loss']\n",
        "val_loss = history.history['val_loss']\n",
        "\n",
        "epochs = range(1, len(loss) + 1)\n",
        "\n",
        "plt.plot(epochs, loss, 'bo', label='Training loss')\n",
        "plt.plot(epochs, val_loss, 'b', label='Validation loss')\n",
        "plt.title('Training and validation loss')\n",
        "plt.xlabel('Epochs')\n",
        "plt.ylabel('Loss')\n",
        "plt.legend()\n",
        "\n",
        "plt.show()\n"
      ],
      "metadata": {
        "colab": {
          "base_uri": "https://localhost:8080/",
          "height": 472
        },
        "id": "6VSJ_xM78K4V",
        "outputId": "5f27d455-3a33-4cea-8335-075b40706257"
      },
      "execution_count": null,
      "outputs": [
        {
          "output_type": "display_data",
          "data": {
            "text/plain": [
              "<Figure size 640x480 with 1 Axes>"
            ],
            "image/png": "[encoded data removed]"
          },
          "metadata": {}
        }
      ]
    },
    {
      "cell_type": "code",
      "source": [
        "history_dict = history.history\n",
        "print(history_dict.keys())"
      ],
      "metadata": {
        "colab": {
          "base_uri": "https://localhost:8080/"
        },
        "id": "JcCtmCMEkIFP",
        "outputId": "48002c1d-99a3-4cf2-855f-c652aeb02572"
      },
      "execution_count": null,
      "outputs": [
        {
          "output_type": "stream",
          "name": "stdout",
          "text": [
            "dict_keys(['loss', 'accuracy', 'val_loss', 'val_accuracy'])\n"
          ]
        }
      ]
    },
    {
      "cell_type": "code",
      "source": [
        "# Plotting the training and validation accuracy\n",
        "acc = history.history['accuracy']\n",
        "val_acc = history.history['val_accuracy']\n",
        "\n",
        "plt.plot(epochs, acc, 'bo', label = 'Training acc')\n",
        "plt.plot(epochs, val_acc,'b', label='Validation acc')\n",
        "plt.title('Training and validation accuracy')\n",
        "plt.xlabel('Epochs')\n",
        "plt.ylabel('Loss')\n",
        "plt.legend()\n",
        "\n",
        "plt.show()\n"
      ],
      "metadata": {
        "id": "EBGsSaVy8LES",
        "colab": {
          "base_uri": "https://localhost:8080/",
          "height": 472
        },
        "outputId": "508ec882-038d-4f61-ffcb-dbb17a943655"
      },
      "execution_count": null,
      "outputs": [
        {
          "output_type": "display_data",
          "data": {
            "text/plain": [
              "<Figure size 640x480 with 1 Axes>"
            ],
            "image/png": "[encoded data removed]"
          },
          "metadata": {}
        }
      ]
    },
    {
      "cell_type": "code",
      "source": [
        "# Retraining the model\n",
        "model = models.Sequential()\n",
        "model.add(layers.Dense(64, activation = 'relu', input_shape=(10000, )))\n",
        "model.add(layers.Dense(64, activation = 'relu'))\n",
        "model.add(layers.Dense(46, activation = 'softmax'))\n",
        "\n",
        "# Compile\n",
        "model.compile(optimizer='rmsprop',\n",
        "              loss='categorical_crossentropy',\n",
        "              metrics=['accuracy'])\n",
        "# Fit\n",
        "history = model.fit(partial_x_train,\n",
        "                    partial_y_train,\n",
        "                    epochs=9,\n",
        "                    batch_size=512,\n",
        "                    validation_data=(x_val, y_val))\n",
        "# Results\n",
        "results = model.evaluate(x_test, one_hot_test_labels)\n"
      ],
      "metadata": {
        "id": "7Xz4AbCn8LKU",
        "colab": {
          "base_uri": "https://localhost:8080/"
        },
        "outputId": "1bd7c601-8bd1-42dc-d669-d75c43dd7a34"
      },
      "execution_count": null,
      "outputs": [
        {
          "output_type": "stream",
          "name": "stdout",
          "text": [
            "Epoch 1/9\n",
            "16/16 [==============================] - 2s 74ms/step - loss: 2.6363 - accuracy: 0.5026 - val_loss: 1.7769 - val_accuracy: 0.6040\n",
            "Epoch 2/9\n",
            "16/16 [==============================] - 1s 56ms/step - loss: 1.5041 - accuracy: 0.6689 - val_loss: 1.3409 - val_accuracy: 0.7070\n",
            "Epoch 3/9\n",
            "16/16 [==============================] - 1s 52ms/step - loss: 1.1421 - accuracy: 0.7532 - val_loss: 1.1660 - val_accuracy: 0.7370\n",
            "Epoch 4/9\n",
            "16/16 [==============================] - 1s 56ms/step - loss: 0.9357 - accuracy: 0.7938 - val_loss: 1.0682 - val_accuracy: 0.7600\n",
            "Epoch 5/9\n",
            "16/16 [==============================] - 1s 64ms/step - loss: 0.7757 - accuracy: 0.8276 - val_loss: 0.9862 - val_accuracy: 0.7870\n",
            "Epoch 6/9\n",
            "16/16 [==============================] - 1s 64ms/step - loss: 0.6386 - accuracy: 0.8621 - val_loss: 0.9379 - val_accuracy: 0.7930\n",
            "Epoch 7/9\n",
            "16/16 [==============================] - 1s 62ms/step - loss: 0.5390 - accuracy: 0.8829 - val_loss: 0.9074 - val_accuracy: 0.8090\n",
            "Epoch 8/9\n",
            "16/16 [==============================] - 1s 75ms/step - loss: 0.4495 - accuracy: 0.9030 - val_loss: 0.9181 - val_accuracy: 0.7950\n",
            "Epoch 9/9\n",
            "16/16 [==============================] - 2s 98ms/step - loss: 0.3795 - accuracy: 0.9197 - val_loss: 0.8690 - val_accuracy: 0.8160\n",
            "71/71 [==============================] - 0s 6ms/step - loss: 0.9530 - accuracy: 0.7823\n"
          ]
        }
      ]
    },
    {
      "cell_type": "code",
      "source": [
        "# Generating predictions\n",
        "predictions = model.predict(x_test)\n",
        "\n",
        "# see predict is as vector with 46 len\n",
        "predictions[0].shape"
      ],
      "metadata": {
        "colab": {
          "base_uri": "https://localhost:8080/"
        },
        "id": "0oaPEsasTugE",
        "outputId": "6922e731-ac44-4632-fa83-ef86c76d94d0"
      },
      "execution_count": null,
      "outputs": [
        {
          "output_type": "stream",
          "name": "stdout",
          "text": [
            "71/71 [==============================] - 0s 4ms/step\n"
          ]
        },
        {
          "output_type": "execute_result",
          "data": {
            "text/plain": [
              "(46,)"
            ]
          },
          "metadata": {},
          "execution_count": 15
        }
      ]
    },
    {
      "cell_type": "code",
      "source": [
        "# see coefficients sum to one\n",
        "np.sum(predictions[0])"
      ],
      "metadata": {
        "colab": {
          "base_uri": "https://localhost:8080/"
        },
        "id": "t2MVRg1sTuwS",
        "outputId": "261ed7eb-bb79-42df-8f78-5f49c4edcee4"
      },
      "execution_count": null,
      "outputs": [
        {
          "output_type": "execute_result",
          "data": {
            "text/plain": [
              "1.0000001"
            ]
          },
          "metadata": {},
          "execution_count": 16
        }
      ]
    },
    {
      "cell_type": "code",
      "source": [
        "# see predicted class\n",
        "np.argmax(predictions[0])"
      ],
      "metadata": {
        "colab": {
          "base_uri": "https://localhost:8080/"
        },
        "id": "eNZQAi3fTuzD",
        "outputId": "4b598675-501c-4ac0-dc93-970d21a75788"
      },
      "execution_count": null,
      "outputs": [
        {
          "output_type": "execute_result",
          "data": {
            "text/plain": [
              "3"
            ]
          },
          "metadata": {},
          "execution_count": 17
        }
      ]
    },
    {
      "cell_type": "code",
      "source": [
        "# Experiment with dense layers\n",
        "model = models.Sequential()\n",
        "model.add(layers.Dense(64, activation = 'relu', input_shape=(10000, )))\n",
        "model.add(layers.Dense(32, activation = 'relu'))\n",
        "model.add(layers.Dense(46, activation = 'softmax'))\n",
        "\n",
        "# Compile\n",
        "model.compile(optimizer='rmsprop',\n",
        "              loss='categorical_crossentropy',\n",
        "              metrics=['accuracy'])\n",
        "# Fit\n",
        "history = model.fit(partial_x_train,\n",
        "                    partial_y_train,\n",
        "                    epochs=12,\n",
        "                    batch_size=400,\n",
        "                    validation_data=(x_val, y_val))"
      ],
      "metadata": {
        "colab": {
          "base_uri": "https://localhost:8080/"
        },
        "id": "EHYaeiuHTu2Z",
        "outputId": "10d0e61c-4e13-4cb1-ba86-7e0ee05debf9"
      },
      "execution_count": null,
      "outputs": [
        {
          "output_type": "stream",
          "name": "stdout",
          "text": [
            "Epoch 1/12\n",
            "20/20 [==============================] - 2s 69ms/step - loss: 2.6825 - accuracy: 0.5480 - val_loss: 1.8315 - val_accuracy: 0.6440\n",
            "Epoch 2/12\n",
            "20/20 [==============================] - 1s 51ms/step - loss: 1.5278 - accuracy: 0.6877 - val_loss: 1.3754 - val_accuracy: 0.7080\n",
            "Epoch 3/12\n",
            "20/20 [==============================] - 1s 49ms/step - loss: 1.1600 - accuracy: 0.7491 - val_loss: 1.2106 - val_accuracy: 0.7400\n",
            "Epoch 4/12\n",
            "20/20 [==============================] - 1s 51ms/step - loss: 0.9492 - accuracy: 0.7914 - val_loss: 1.1178 - val_accuracy: 0.7400\n",
            "Epoch 5/12\n",
            "20/20 [==============================] - 1s 49ms/step - loss: 0.7874 - accuracy: 0.8236 - val_loss: 1.0256 - val_accuracy: 0.7690\n",
            "Epoch 6/12\n",
            "20/20 [==============================] - 1s 50ms/step - loss: 0.6556 - accuracy: 0.8572 - val_loss: 0.9566 - val_accuracy: 0.7890\n",
            "Epoch 7/12\n",
            "20/20 [==============================] - 1s 45ms/step - loss: 0.5462 - accuracy: 0.8817 - val_loss: 0.9251 - val_accuracy: 0.7950\n",
            "Epoch 8/12\n",
            "20/20 [==============================] - 1s 61ms/step - loss: 0.4559 - accuracy: 0.8984 - val_loss: 0.8945 - val_accuracy: 0.8060\n",
            "Epoch 9/12\n",
            "20/20 [==============================] - 2s 76ms/step - loss: 0.3854 - accuracy: 0.9149 - val_loss: 0.8684 - val_accuracy: 0.8180\n",
            "Epoch 10/12\n",
            "20/20 [==============================] - 1s 71ms/step - loss: 0.3282 - accuracy: 0.9296 - val_loss: 0.8743 - val_accuracy: 0.8160\n",
            "Epoch 11/12\n",
            "20/20 [==============================] - 1s 50ms/step - loss: 0.2826 - accuracy: 0.9380 - val_loss: 0.8931 - val_accuracy: 0.8170\n",
            "Epoch 12/12\n",
            "20/20 [==============================] - 1s 50ms/step - loss: 0.2471 - accuracy: 0.9446 - val_loss: 0.8876 - val_accuracy: 0.8210\n"
          ]
        }
      ]
    },
    {
      "cell_type": "code",
      "source": [
        "results = model.evaluate(x_test, one_hot_test_labels)"
      ],
      "metadata": {
        "colab": {
          "base_uri": "https://localhost:8080/"
        },
        "id": "opvgrv5zTu6Y",
        "outputId": "1a2d0409-3de0-4b8c-c3fa-c68ee04b4d37"
      },
      "execution_count": null,
      "outputs": [
        {
          "output_type": "stream",
          "name": "stdout",
          "text": [
            "71/71 [==============================] - 0s 4ms/step - loss: 0.9653 - accuracy: 0.7845\n"
          ]
        }
      ]
    },
    {
      "cell_type": "code",
      "source": [
        "#!jupyter nbconvert --to html /content/Assignment5_2.ipynb"
      ],
      "metadata": {
        "id": "RGYUvg956YJM"
      },
      "execution_count": null,
      "outputs": []
    }
  ]
}