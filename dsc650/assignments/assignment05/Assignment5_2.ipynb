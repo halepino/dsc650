{
  "nbformat": 4,
  "nbformat_minor": 0,
  "metadata": {
    "colab": {
      "provenance": [],
      "authorship_tag": "ABX9TyO765zI5EWBUpocGhLjrTrm",
      "include_colab_link": true
    },
    "kernelspec": {
      "name": "python3",
      "display_name": "Python 3"
    },
    "language_info": {
      "name": "python"
    }
  },
  "cells": [
    {
      "cell_type": "markdown",
      "metadata": {
        "id": "view-in-github",
        "colab_type": "text"
      },
      "source": [
        "<a href=\"https://colab.research.google.com/github/halepino/dsc650/blob/master/dsc650/assignments/assignment05/Assignment5_2.ipynb\" target=\"_parent\"><img src=\"https://colab.research.google.com/assets/colab-badge.svg\" alt=\"Open In Colab\"/></a>"
      ]
    },
    {
      "cell_type": "markdown",
      "source": [
        "###Holly Figueroa\n",
        "###DSC650 Week 5  \n",
        "\n",
        "**Book Exercise 3.5**  \n",
        "A Single-Label, Multiclass Classification Problem"
      ],
      "metadata": {
        "id": "ydtNYMbAYXl2"
      }
    },
    {
      "cell_type": "code",
      "execution_count": null,
      "metadata": {
        "colab": {
          "base_uri": "https://localhost:8080/"
        },
        "id": "wIQ1vBz7VpQc",
        "outputId": "0edd2829-2665-43a0-a431-0d2f07ead620"
      },
      "outputs": [
        {
          "output_type": "execute_result",
          "data": {
            "text/plain": [
              "2246"
            ]
          },
          "metadata": {},
          "execution_count": 1
        }
      ],
      "source": [
        "# Loading dataset\n",
        "from keras.datasets import reuters\n",
        "import numpy as np\n",
        "\n",
        "(train_data, train_labels), (test_data, test_labels) = reuters.load_data(num_words=10000)\n",
        "\n",
        "len(train_data)\n",
        "len(test_data)"
      ]
    },
    {
      "cell_type": "code",
      "source": [
        "# How to decode newswires back to text\n",
        "word_index = reuters.get_word_index()\n",
        "reverse_word_index = dict([(value, key) for (key,value) in word_index.items()])\n",
        "decoded_newswire= ' '.join([reverse_word_index.get(i-3,'?') for i in train_data[0]])\n"
      ],
      "metadata": {
        "id": "K5l3nkO7fK7j"
      },
      "execution_count": null,
      "outputs": []
    },
    {
      "cell_type": "code",
      "source": [
        "decoded_newswire"
      ],
      "metadata": {
        "colab": {
          "base_uri": "https://localhost:8080/",
          "height": 70
        },
        "id": "2OqgwjzTfLEU",
        "outputId": "c722bb7b-ba83-4f62-fd60-11b61c5d46f9"
      },
      "execution_count": null,
      "outputs": [
        {
          "output_type": "execute_result",
          "data": {
            "text/plain": [
              "'? ? ? said as a result of its december acquisition of space co it expects earnings per share in 1987 of 1 15 to 1 30 dlrs per share up from 70 cts in 1986 the company said pretax net should rise to nine to 10 mln dlrs from six mln dlrs in 1986 and rental operation revenues to 19 to 22 mln dlrs from 12 5 mln dlrs it said cash flow per share this year should be 2 50 to three dlrs reuter 3'"
            ],
            "application/vnd.google.colaboratory.intrinsic+json": {
              "type": "string"
            }
          },
          "metadata": {},
          "execution_count": 3
        }
      ]
    },
    {
      "cell_type": "code",
      "source": [
        "# Encoding the data\n",
        "# Encode the integer sequences into a binary matrix\n",
        "def vectorize_sequences(sequences, dimension=10000):\n",
        "    results = np.zeros((len(sequences), dimension))\n",
        "    for i, sequence in enumerate(sequences):\n",
        "        results[i, sequence] = 1.\n",
        "    return results\n",
        "\n",
        "x_train = vectorize_sequences(train_data)\n",
        "x_test = vectorize_sequences(test_data)"
      ],
      "metadata": {
        "id": "wER4G_qyfLHO"
      },
      "execution_count": null,
      "outputs": []
    },
    {
      "cell_type": "code",
      "source": [
        "print( x_train.shape, x_test.shape)"
      ],
      "metadata": {
        "colab": {
          "base_uri": "https://localhost:8080/"
        },
        "id": "_eaRwyefyioP",
        "outputId": "1c642bb2-f806-48da-8f10-3644305eed12"
      },
      "execution_count": null,
      "outputs": [
        {
          "output_type": "stream",
          "name": "stdout",
          "text": [
            "(8982, 10000) (2246, 10000)\n"
          ]
        }
      ]
    },
    {
      "cell_type": "code",
      "source": [
        "from keras.utils import to_categorical\n",
        "\n",
        "one_hot_train_labels = to_categorical(train_labels)\n",
        "one_hot_test_labels = to_categorical(test_labels)"
      ],
      "metadata": {
        "id": "gtyLfto0fLKW"
      },
      "execution_count": null,
      "outputs": []
    },
    {
      "cell_type": "code",
      "source": [
        "# Model Definition\n",
        "\n",
        "from keras import models\n",
        "from keras import layers\n",
        "\n",
        "model = models.Sequential()\n",
        "model.add(layers.Dense(64, activation = 'relu', input_shape=(10000, )))\n",
        "model.add(layers.Dense(64, activation = 'relu'))\n",
        "model.add(layers.Dense(46, activation = 'softmax'))\n"
      ],
      "metadata": {
        "id": "C7U1dGSC8Ktq"
      },
      "execution_count": null,
      "outputs": []
    },
    {
      "cell_type": "code",
      "source": [
        "# Compileing the model\n",
        "model.compile(optimizer='rmsprop',\n",
        "              loss='categorical_crossentropy',\n",
        "              metrics=['accuracy'])"
      ],
      "metadata": {
        "id": "C_fUZHOz8NBh"
      },
      "execution_count": null,
      "outputs": []
    },
    {
      "cell_type": "code",
      "source": [
        "# Setting asside a validation set\n",
        "x_val = x_train[:1000]\n",
        "partial_x_train = x_train[1000:]\n",
        "\n",
        "y_val = one_hot_train_labels[:1000]\n",
        "partial_y_train = one_hot_train_labels[1000:]"
      ],
      "metadata": {
        "id": "lyxMru9l8NIA"
      },
      "execution_count": null,
      "outputs": []
    },
    {
      "cell_type": "code",
      "source": [
        "# Training the model\n",
        "history = model.fit(partial_x_train,\n",
        "                    partial_y_train,\n",
        "                    epochs=20,\n",
        "                    batch_size=512,\n",
        "                    validation_data=(x_val, y_val))"
      ],
      "metadata": {
        "colab": {
          "base_uri": "https://localhost:8080/"
        },
        "id": "plqj5SIE8NKz",
        "outputId": "fd95f9d3-fe08-412b-af4a-e54b1c429b3c"
      },
      "execution_count": null,
      "outputs": [
        {
          "output_type": "stream",
          "name": "stdout",
          "text": [
            "Epoch 1/20\n",
            "16/16 [==============================] - 6s 221ms/step - loss: 2.8246 - accuracy: 0.4868 - val_loss: 1.9326 - val_accuracy: 0.6130\n",
            "Epoch 2/20\n",
            "16/16 [==============================] - 2s 154ms/step - loss: 1.6302 - accuracy: 0.6586 - val_loss: 1.4385 - val_accuracy: 0.6870\n",
            "Epoch 3/20\n",
            "16/16 [==============================] - 2s 115ms/step - loss: 1.2545 - accuracy: 0.7294 - val_loss: 1.2267 - val_accuracy: 0.7150\n",
            "Epoch 4/20\n",
            "16/16 [==============================] - 2s 134ms/step - loss: 1.0213 - accuracy: 0.7799 - val_loss: 1.1046 - val_accuracy: 0.7550\n",
            "Epoch 5/20\n",
            "16/16 [==============================] - 2s 109ms/step - loss: 0.8558 - accuracy: 0.8131 - val_loss: 1.0178 - val_accuracy: 0.7810\n",
            "Epoch 6/20\n",
            "16/16 [==============================] - 2s 110ms/step - loss: 0.7185 - accuracy: 0.8447 - val_loss: 0.9768 - val_accuracy: 0.7780\n",
            "Epoch 7/20\n",
            "16/16 [==============================] - 1s 65ms/step - loss: 0.5999 - accuracy: 0.8735 - val_loss: 0.9238 - val_accuracy: 0.8160\n",
            "Epoch 8/20\n",
            "16/16 [==============================] - 1s 59ms/step - loss: 0.5076 - accuracy: 0.8923 - val_loss: 0.9064 - val_accuracy: 0.8070\n",
            "Epoch 9/20\n",
            "16/16 [==============================] - 1s 89ms/step - loss: 0.4244 - accuracy: 0.9099 - val_loss: 0.8639 - val_accuracy: 0.8230\n",
            "Epoch 10/20\n",
            "16/16 [==============================] - 2s 99ms/step - loss: 0.3578 - accuracy: 0.9253 - val_loss: 0.8899 - val_accuracy: 0.8070\n",
            "Epoch 11/20\n",
            "16/16 [==============================] - 1s 65ms/step - loss: 0.3043 - accuracy: 0.9356 - val_loss: 0.8676 - val_accuracy: 0.8180\n",
            "Epoch 12/20\n",
            "16/16 [==============================] - 1s 58ms/step - loss: 0.2623 - accuracy: 0.9424 - val_loss: 0.8841 - val_accuracy: 0.8140\n",
            "Epoch 13/20\n",
            "16/16 [==============================] - 1s 54ms/step - loss: 0.2361 - accuracy: 0.9468 - val_loss: 0.8931 - val_accuracy: 0.8080\n",
            "Epoch 14/20\n",
            "16/16 [==============================] - 1s 58ms/step - loss: 0.2134 - accuracy: 0.9495 - val_loss: 0.8659 - val_accuracy: 0.8240\n",
            "Epoch 15/20\n",
            "16/16 [==============================] - 1s 59ms/step - loss: 0.1866 - accuracy: 0.9531 - val_loss: 0.9113 - val_accuracy: 0.8120\n",
            "Epoch 16/20\n",
            "16/16 [==============================] - 1s 57ms/step - loss: 0.1741 - accuracy: 0.9530 - val_loss: 0.8837 - val_accuracy: 0.8230\n",
            "Epoch 17/20\n",
            "16/16 [==============================] - 1s 57ms/step - loss: 0.1598 - accuracy: 0.9548 - val_loss: 0.9075 - val_accuracy: 0.8180\n",
            "Epoch 18/20\n",
            "16/16 [==============================] - 1s 56ms/step - loss: 0.1509 - accuracy: 0.9558 - val_loss: 0.9475 - val_accuracy: 0.8160\n",
            "Epoch 19/20\n",
            "16/16 [==============================] - 1s 57ms/step - loss: 0.1420 - accuracy: 0.9570 - val_loss: 0.9177 - val_accuracy: 0.8210\n",
            "Epoch 20/20\n",
            "16/16 [==============================] - 1s 56ms/step - loss: 0.1386 - accuracy: 0.9548 - val_loss: 0.9056 - val_accuracy: 0.8200\n"
          ]
        }
      ]
    },
    {
      "cell_type": "code",
      "source": [
        "# Plotting the training and validation loss\n",
        "import matplotlib.pyplot as plt\n",
        "\n",
        "loss = history.history['loss']\n",
        "val_loss = history.history['val_loss']\n",
        "\n",
        "epochs = range(1, len(loss) + 1)\n",
        "\n",
        "plt.plot(epochs, loss, 'bo', label='Training loss')\n",
        "plt.plot(epochs, val_loss, 'b', label='Validation loss')\n",
        "plt.title('Training and validation loss')\n",
        "plt.xlabel('Epochs')\n",
        "plt.ylabel('Loss')\n",
        "plt.legend()\n",
        "\n",
        "plt.show()\n"
      ],
      "metadata": {
        "colab": {
          "base_uri": "https://localhost:8080/",
          "height": 472
        },
        "id": "6VSJ_xM78K4V",
        "outputId": "6a1224fc-b613-4e79-e263-a603fe4ef214"
      },
      "execution_count": null,
      "outputs": [
        {
          "output_type": "display_data",
          "data": {
            "text/plain": [
              "<Figure size 640x480 with 1 Axes>"
            ],
            "image/png": "[encoded data removed]"
          },
          "metadata": {}
        }
      ]
    },
    {
      "cell_type": "code",
      "source": [
        "history_dict = history.history\n",
        "print(history_dict.keys())"
      ],
      "metadata": {
        "colab": {
          "base_uri": "https://localhost:8080/"
        },
        "id": "JcCtmCMEkIFP",
        "outputId": "8f7be3b2-56d4-46b5-c081-eef4c3f8d808"
      },
      "execution_count": null,
      "outputs": [
        {
          "output_type": "stream",
          "name": "stdout",
          "text": [
            "dict_keys(['loss', 'accuracy', 'val_loss', 'val_accuracy'])\n"
          ]
        }
      ]
    },
    {
      "cell_type": "code",
      "source": [
        "# Plotting the training and validation accuracy\n",
        "acc = history.history['accuracy']\n",
        "val_acc = history.history['val_accuracy']\n",
        "\n",
        "plt.plot(epochs, acc, 'bo', label = 'Training acc')\n",
        "plt.plot(epochs, val_acc,'b', label='Validation acc')\n",
        "plt.title('Training and validation accuracy')\n",
        "plt.xlabel('Epochs')\n",
        "plt.ylabel('Loss')\n",
        "plt.legend()\n",
        "\n",
        "plt.show()\n"
      ],
      "metadata": {
        "id": "EBGsSaVy8LES",
        "colab": {
          "base_uri": "https://localhost:8080/",
          "height": 472
        },
        "outputId": "a4d4f6f7-a1fb-402a-cd2c-5d04d855f87b"
      },
      "execution_count": null,
      "outputs": [
        {
          "output_type": "display_data",
          "data": {
            "text/plain": [
              "<Figure size 640x480 with 1 Axes>"
            ],
            "image/png": "[encoded data removed]"
          },
          "metadata": {}
        }
      ]
    },
    {
      "cell_type": "code",
      "source": [
        "# Retraining the model\n",
        "model = models.Sequential()\n",
        "model.add(layers.Dense(64, activation = 'relu', input_shape=(10000, )))\n",
        "model.add(layers.Dense(64, activation = 'relu'))\n",
        "model.add(layers.Dense(46, activation = 'softmax'))\n",
        "\n",
        "# Compile\n",
        "model.compile(optimizer='rmsprop',\n",
        "              loss='categorical_crossentropy',\n",
        "              metrics=['accuracy'])\n",
        "# Fit\n",
        "history = model.fit(partial_x_train,\n",
        "                    partial_y_train,\n",
        "                    epochs=9,\n",
        "                    batch_size=512,\n",
        "                    validation_data=(x_val, y_val))\n",
        "# Results\n",
        "results = model.evaluate(x_test, one_hot_test_labels)\n"
      ],
      "metadata": {
        "id": "7Xz4AbCn8LKU",
        "colab": {
          "base_uri": "https://localhost:8080/"
        },
        "outputId": "c70da37b-8f0b-42f8-cea9-dab300575ee6"
      },
      "execution_count": null,
      "outputs": [
        {
          "output_type": "stream",
          "name": "stdout",
          "text": [
            "Epoch 1/9\n",
            "16/16 [==============================] - 3s 160ms/step - loss: 2.7270 - accuracy: 0.4594 - val_loss: 1.8155 - val_accuracy: 0.6140\n",
            "Epoch 2/9\n",
            "16/16 [==============================] - 2s 102ms/step - loss: 1.5429 - accuracy: 0.6809 - val_loss: 1.3605 - val_accuracy: 0.6950\n",
            "Epoch 3/9\n",
            "16/16 [==============================] - 2s 100ms/step - loss: 1.1778 - accuracy: 0.7404 - val_loss: 1.1816 - val_accuracy: 0.7340\n",
            "Epoch 4/9\n",
            "16/16 [==============================] - 2s 106ms/step - loss: 0.9517 - accuracy: 0.7949 - val_loss: 1.0644 - val_accuracy: 0.7630\n",
            "Epoch 5/9\n",
            "16/16 [==============================] - 2s 100ms/step - loss: 0.7848 - accuracy: 0.8304 - val_loss: 1.0174 - val_accuracy: 0.7730\n",
            "Epoch 6/9\n",
            "16/16 [==============================] - 2s 96ms/step - loss: 0.6540 - accuracy: 0.8612 - val_loss: 0.9713 - val_accuracy: 0.7830\n",
            "Epoch 7/9\n",
            "16/16 [==============================] - 3s 164ms/step - loss: 0.5486 - accuracy: 0.8827 - val_loss: 0.9166 - val_accuracy: 0.8100\n",
            "Epoch 8/9\n",
            "16/16 [==============================] - 2s 115ms/step - loss: 0.4623 - accuracy: 0.9037 - val_loss: 0.9026 - val_accuracy: 0.8160\n",
            "Epoch 9/9\n",
            "16/16 [==============================] - 1s 93ms/step - loss: 0.3964 - accuracy: 0.9144 - val_loss: 0.8838 - val_accuracy: 0.8140\n",
            "71/71 [==============================] - 1s 8ms/step - loss: 0.9368 - accuracy: 0.7925\n"
          ]
        }
      ]
    },
    {
      "cell_type": "code",
      "source": [
        "#!jupyter nbconvert --to html /content/Assignment5_2.ipynb"
      ],
      "metadata": {
        "id": "RGYUvg956YJM",
        "colab": {
          "base_uri": "https://localhost:8080/"
        },
        "outputId": "06e20480-2ee1-4b11-cab8-dc7bbbb27036"
      },
      "execution_count": 1,
      "outputs": [
        {
          "output_type": "stream",
          "name": "stdout",
          "text": [
            "[NbConvertApp] Converting notebook /content/Assignment5_2.ipynb to html\n",
            "[NbConvertApp] Writing 671167 bytes to /content/Assignment5_2.html\n"
          ]
        }
      ]
    }
  ]
}