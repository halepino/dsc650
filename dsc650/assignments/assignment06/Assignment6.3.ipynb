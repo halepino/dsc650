{
 "cells": [
  {
   "cell_type": "markdown",
   "id": "cb73cf42",
   "metadata": {},
   "source": [
    "### Holly Figueroa\n",
    "### DSC650 Week 6 Assignments  \n",
    "\n",
    "Resnet50 image prediction"
   ]
  },
  {
   "cell_type": "markdown",
   "id": "9af848fd",
   "metadata": {},
   "source": [
    "## 6.3"
   ]
  },
  {
   "cell_type": "code",
   "execution_count": 15,
   "id": "5293df87",
   "metadata": {},
   "outputs": [
    {
     "data": {
      "text/plain": [
       "'C:\\\\DataLore\\\\Python_Projects\\\\dsc650\\\\dsc650\\\\assignments\\\\assignment06'"
      ]
     },
     "execution_count": 15,
     "metadata": {},
     "output_type": "execute_result"
    }
   ],
   "source": [
    "os.getcwd()"
   ]
  },
  {
   "cell_type": "code",
   "execution_count": 4,
   "id": "3e43c6cb",
   "metadata": {},
   "outputs": [],
   "source": [
    "from tensorflow.keras.applications.resnet50 import ResNet50\n",
    "from tensorflow.keras.preprocessing import image\n",
    "from tensorflow.keras.applications.resnet50 import preprocess_input, decode_predictions\n",
    "import numpy as np\n",
    "import os, cv2\n"
   ]
  },
  {
   "cell_type": "code",
   "execution_count": 7,
   "id": "81df6a27",
   "metadata": {},
   "outputs": [
    {
     "name": "stdout",
     "output_type": "stream",
     "text": [
      "crayons.jpg\n",
      "monarchs.jpeg\n",
      "octopus.jpg\n",
      "piano.jpg\n",
      "sammach.jpg\n",
      "stoplights.jpg\n"
     ]
    }
   ],
   "source": [
    "model = ResNet50(weights = 'imagenet')\n",
    "img_path = 'C:\\\\DataLore\\\\Python_Projects\\\\dsc650\\\\dsc650\\\\assignments\\\\assignment06\\\\images'\n",
    "images = os.listdir(img_path)\n",
    "\n",
    "for i,name in enumerate(images):\n",
    "    print(name)"
   ]
  },
  {
   "cell_type": "code",
   "execution_count": 12,
   "id": "42511ed2",
   "metadata": {},
   "outputs": [
    {
     "name": "stdout",
     "output_type": "stream",
     "text": [
      "1/1 [==============================] - 0s 220ms/step\n",
      "('crayons.jpg', [('n03376595', 'folding_chair', 0.5939869), ('n04507155', 'umbrella', 0.20981836), ('n02783161', 'ballpoint', 0.15914837)])\n",
      "1/1 [==============================] - 0s 229ms/step\n",
      "('monarchs.jpeg', [('n02276258', 'admiral', 0.60628855), ('n02279972', 'monarch', 0.38432634), ('n02643566', 'lionfish', 0.009236644)])\n",
      "1/1 [==============================] - 0s 205ms/step\n",
      "('octopus.jpg', [('n09256479', 'coral_reef', 0.2539823), ('n01687978', 'agama', 0.22628552), ('n02606052', 'rock_beauty', 0.06837767)])\n",
      "1/1 [==============================] - 0s 204ms/step\n",
      "('piano.jpg', [('n03452741', 'grand_piano', 0.9993919), ('n04515003', 'upright', 0.00060774345), ('n03854065', 'organ', 1.1795713e-07)])\n",
      "1/1 [==============================] - 0s 191ms/step\n",
      "('sammach.jpg', [('n04557648', 'water_bottle', 0.35293603), ('n07930864', 'cup', 0.29032114), ('n04423845', 'thimble', 0.039608672)])\n",
      "1/1 [==============================] - 0s 205ms/step\n",
      "('stoplights.jpg', [('n06874185', 'traffic_light', 0.9910686), ('n04141076', 'sax', 0.0019230907), ('n04146614', 'school_bus', 0.0008408431)])\n"
     ]
    }
   ],
   "source": [
    "for i, name in enumerate(images):\n",
    "    if name != '.ipynb_checkpoints':\n",
    "        img = cv2.imread(img_path + '/' + name)\n",
    "        img = cv2.resize(img, (224, 224))\n",
    "        x = image.img_to_array(img)\n",
    "        x = np.expand_dims(x, axis = 0)\n",
    "        x = preprocess_input(x)\n",
    "        \n",
    "        preds = model.predict(x)\n",
    "        \n",
    "        decoded_results = name, decode_predictions(preds, top = 3)[0]\n",
    "        print(decoded_results)\n",
    "\n",
    "    else:\n",
    "        pass"
   ]
  },
  {
   "cell_type": "code",
   "execution_count": 17,
   "id": "dfa61f7d",
   "metadata": {},
   "outputs": [
    {
     "name": "stderr",
     "output_type": "stream",
     "text": [
      "[NbConvertApp] Converting notebook C:\\DataLore\\Python_Projects\\dsc650\\dsc650\\assignments\\assignment06\\Assignment6.3.ipynb to html\n",
      "[NbConvertApp] Writing 594049 bytes to C:\\DataLore\\Python_Projects\\dsc650\\dsc650\\assignments\\assignment06\\Assignment6.3.html\n"
     ]
    }
   ],
   "source": [
    "!jupyter nbconvert --to html C:\\DataLore\\Python_Projects\\dsc650\\dsc650\\assignments\\assignment06\\Assignment6.3.ipynb"
   ]
  }
 ],
 "metadata": {
  "kernelspec": {
   "display_name": "Python 3 (ipykernel)",
   "language": "python",
   "name": "python3"
  },
  "language_info": {
   "codemirror_mode": {
    "name": "ipython",
    "version": 3
   },
   "file_extension": ".py",
   "mimetype": "text/x-python",
   "name": "python",
   "nbconvert_exporter": "python",
   "pygments_lexer": "ipython3",
   "version": "3.11.2"
  }
 },
 "nbformat": 4,
 "nbformat_minor": 5
}
