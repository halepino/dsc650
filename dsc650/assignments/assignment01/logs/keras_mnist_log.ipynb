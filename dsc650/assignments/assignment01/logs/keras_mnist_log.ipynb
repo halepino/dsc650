{
  "nbformat": 4,
  "nbformat_minor": 0,
  "metadata": {
    "colab": {
      "provenance": [],
      "authorship_tag": "ABX9TyP3BQFKcuEzLmDzpwHYboxr",
      "include_colab_link": true
    },
    "kernelspec": {
      "name": "python3",
      "display_name": "Python 3"
    },
    "language_info": {
      "name": "python"
    }
  },
  "cells": [
    {
      "cell_type": "markdown",
      "metadata": {
        "id": "view-in-github",
        "colab_type": "text"
      },
      "source": [
        "<a href=\"https://colab.research.google.com/github/halepino/dsc650/blob/master/dsc650/assignments/assignment01/logs/keras_mnist_log.ipynb\" target=\"_parent\"><img src=\"https://colab.research.google.com/assets/colab-badge.svg\" alt=\"Open In Colab\"/></a>"
      ]
    },
    {
      "cell_type": "code",
      "execution_count": 2,
      "metadata": {
        "colab": {
          "base_uri": "https://localhost:8080/"
        },
        "id": "UDQftXx5U6oV",
        "outputId": "0472d372-24b2-48ac-8b9d-ecfe807218c1"
      },
      "outputs": [
        {
          "output_type": "stream",
          "name": "stdout",
          "text": [
            "Downloading data from https://storage.googleapis.com/tensorflow/tf-keras-datasets/mnist.npz\n",
            "11490434/11490434 [==============================] - 1s 0us/step\n",
            "60000 train samples\n",
            "10000 test samples\n",
            "Model: \"sequential\"\n",
            "_________________________________________________________________\n",
            " Layer (type)                Output Shape              Param #   \n",
            "=================================================================\n",
            " dense (Dense)               (None, 512)               401920    \n",
            "                                                                 \n",
            " dropout (Dropout)           (None, 512)               0         \n",
            "                                                                 \n",
            " dense_1 (Dense)             (None, 512)               262656    \n",
            "                                                                 \n",
            " dropout_1 (Dropout)         (None, 512)               0         \n",
            "                                                                 \n",
            " dense_2 (Dense)             (None, 10)                5130      \n",
            "                                                                 \n",
            "=================================================================\n",
            "Total params: 669,706\n",
            "Trainable params: 669,706\n",
            "Non-trainable params: 0\n",
            "_________________________________________________________________\n",
            "Epoch 1/20\n",
            "469/469 [==============================] - 11s 23ms/step - loss: 0.2539 - accuracy: 0.9218 - val_loss: 0.1186 - val_accuracy: 0.9623\n",
            "Epoch 2/20\n",
            "469/469 [==============================] - 9s 20ms/step - loss: 0.1047 - accuracy: 0.9679 - val_loss: 0.0846 - val_accuracy: 0.9728\n",
            "Epoch 3/20\n",
            "469/469 [==============================] - 10s 22ms/step - loss: 0.0755 - accuracy: 0.9775 - val_loss: 0.0796 - val_accuracy: 0.9751\n",
            "Epoch 4/20\n",
            "469/469 [==============================] - 10s 21ms/step - loss: 0.0565 - accuracy: 0.9817 - val_loss: 0.0724 - val_accuracy: 0.9779\n",
            "Epoch 5/20\n",
            "469/469 [==============================] - 10s 22ms/step - loss: 0.0471 - accuracy: 0.9851 - val_loss: 0.0627 - val_accuracy: 0.9820\n",
            "Epoch 6/20\n",
            "469/469 [==============================] - 9s 20ms/step - loss: 0.0395 - accuracy: 0.9872 - val_loss: 0.0675 - val_accuracy: 0.9825\n",
            "Epoch 7/20\n",
            "469/469 [==============================] - 10s 22ms/step - loss: 0.0342 - accuracy: 0.9890 - val_loss: 0.0668 - val_accuracy: 0.9821\n",
            "Epoch 8/20\n",
            "469/469 [==============================] - 10s 22ms/step - loss: 0.0287 - accuracy: 0.9907 - val_loss: 0.0744 - val_accuracy: 0.9810\n",
            "Epoch 9/20\n",
            "469/469 [==============================] - 10s 22ms/step - loss: 0.0270 - accuracy: 0.9913 - val_loss: 0.0714 - val_accuracy: 0.9812\n",
            "Epoch 10/20\n",
            "469/469 [==============================] - 9s 20ms/step - loss: 0.0230 - accuracy: 0.9929 - val_loss: 0.0645 - val_accuracy: 0.9842\n",
            "Epoch 11/20\n",
            "469/469 [==============================] - 10s 21ms/step - loss: 0.0218 - accuracy: 0.9930 - val_loss: 0.0690 - val_accuracy: 0.9835\n",
            "Epoch 12/20\n",
            "469/469 [==============================] - 10s 22ms/step - loss: 0.0189 - accuracy: 0.9940 - val_loss: 0.0807 - val_accuracy: 0.9841\n",
            "Epoch 13/20\n",
            "469/469 [==============================] - 11s 22ms/step - loss: 0.0158 - accuracy: 0.9949 - val_loss: 0.0773 - val_accuracy: 0.9838\n",
            "Epoch 14/20\n",
            "469/469 [==============================] - 10s 22ms/step - loss: 0.0165 - accuracy: 0.9948 - val_loss: 0.0708 - val_accuracy: 0.9851\n",
            "Epoch 15/20\n",
            "469/469 [==============================] - 9s 20ms/step - loss: 0.0135 - accuracy: 0.9955 - val_loss: 0.0755 - val_accuracy: 0.9847\n",
            "Epoch 16/20\n",
            "469/469 [==============================] - 10s 22ms/step - loss: 0.0134 - accuracy: 0.9956 - val_loss: 0.0796 - val_accuracy: 0.9850\n",
            "Epoch 17/20\n",
            "469/469 [==============================] - 10s 22ms/step - loss: 0.0119 - accuracy: 0.9961 - val_loss: 0.0780 - val_accuracy: 0.9847\n",
            "Epoch 18/20\n",
            "469/469 [==============================] - 10s 22ms/step - loss: 0.0105 - accuracy: 0.9965 - val_loss: 0.0815 - val_accuracy: 0.9846\n",
            "Epoch 19/20\n",
            "469/469 [==============================] - 9s 20ms/step - loss: 0.0097 - accuracy: 0.9966 - val_loss: 0.0820 - val_accuracy: 0.9855\n",
            "Epoch 20/20\n",
            "469/469 [==============================] - 10s 22ms/step - loss: 0.0092 - accuracy: 0.9971 - val_loss: 0.0866 - val_accuracy: 0.9857\n",
            "Test loss: 0.08656936883926392\n",
            "Test accuracy: 0.9857000112533569\n"
          ]
        }
      ],
      "source": [
        "%run mnist_mlp.py"
      ]
    },
    {
      "cell_type": "markdown",
      "source": [],
      "metadata": {
        "id": "wJktiMI-pgtW"
      }
    },
    {
      "cell_type": "code",
      "source": [],
      "metadata": {
        "id": "-Sc5iNowphAq"
      },
      "execution_count": null,
      "outputs": []
    }
  ]
}